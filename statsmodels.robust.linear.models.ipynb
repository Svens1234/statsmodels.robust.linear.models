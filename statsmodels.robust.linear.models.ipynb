{
 "cells": [
  {
   "cell_type": "code",
   "execution_count": 1,
   "id": "ed4ee59b",
   "metadata": {},
   "outputs": [],
   "source": [
    "import statsmodels.api as sm"
   ]
  },
  {
   "cell_type": "code",
   "execution_count": 2,
   "id": "d68daf56",
   "metadata": {},
   "outputs": [],
   "source": [
    "data = sm.datasets.stackloss.load()"
   ]
  },
  {
   "cell_type": "code",
   "execution_count": 3,
   "id": "e18a21ad",
   "metadata": {},
   "outputs": [],
   "source": [
    "data.exog = sm.add_constant(data.exog)"
   ]
  },
  {
   "cell_type": "code",
   "execution_count": 4,
   "id": "a8e72c2b",
   "metadata": {},
   "outputs": [],
   "source": [
    "rlm_model = sm.RLM(data.endog, data.exog, M=sm.robust.norms.HuberT())"
   ]
  },
  {
   "cell_type": "code",
   "execution_count": 5,
   "id": "9318b39d",
   "metadata": {},
   "outputs": [],
   "source": [
    "rlm_results = rlm_model.fit()"
   ]
  },
  {
   "cell_type": "code",
   "execution_count": 6,
   "id": "521df25d",
   "metadata": {},
   "outputs": [
    {
     "data": {
      "text/plain": [
       "const       -41.026498\n",
       "AIRFLOW       0.829384\n",
       "WATERTEMP     0.926066\n",
       "ACIDCONC     -0.127847\n",
       "dtype: float64"
      ]
     },
     "execution_count": 6,
     "metadata": {},
     "output_type": "execute_result"
    }
   ],
   "source": [
    "rlm_results.params"
   ]
  },
  {
   "cell_type": "code",
   "execution_count": null,
   "id": "fc19aac9",
   "metadata": {},
   "outputs": [],
   "source": []
  }
 ],
 "metadata": {
  "kernelspec": {
   "display_name": "Python 3 (ipykernel)",
   "language": "python",
   "name": "python3"
  },
  "language_info": {
   "codemirror_mode": {
    "name": "ipython",
    "version": 3
   },
   "file_extension": ".py",
   "mimetype": "text/x-python",
   "name": "python",
   "nbconvert_exporter": "python",
   "pygments_lexer": "ipython3",
   "version": "3.10.5"
  }
 },
 "nbformat": 4,
 "nbformat_minor": 5
}
